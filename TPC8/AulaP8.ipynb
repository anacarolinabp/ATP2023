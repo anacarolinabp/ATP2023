{
 "cells": [
  {
   "cell_type": "markdown",
   "id": "1e545158",
   "metadata": {},
   "source": [
    "# Aula Prática 8 (guião)\n",
    "### Semana de 30 de Outubro a 3 de Novembro de 2023\n",
    "### José Carlos Ramalho e Luís Cunha\n",
    "### Sinopsis:\n",
    "Consolidação e aferição de tudo o que foi feito até ao momento. "
   ]
  },
  {
   "cell_type": "markdown",
   "id": "9b9b5140-2b81-435e-9fc0-324437a7b453",
   "metadata": {},
   "source": [
    "### Assunto: Frações\n",
    "Vamos pensar num modelo: o que é uma fração estruturalmente?"
   ]
  },
  {
   "cell_type": "code",
   "execution_count": 6,
   "id": "5a6da5eb",
   "metadata": {},
   "outputs": [
    {
     "data": {
      "text/plain": [
       "[(1, 2), (2, 3), (4, 3)]"
      ]
     },
     "execution_count": 6,
     "metadata": {},
     "output_type": "execute_result"
    }
   ],
   "source": [
    "#provavel que sai no teste\n",
    "# Modelo duma fração\n",
    "f1= (1,2)\n",
    "\n",
    "# Modelo duma lista de frações\n",
    "[(1,2),(2,3),(4,3)]"
   ]
  },
  {
   "cell_type": "markdown",
   "id": "d477052b-e074-4a5d-ac12-85c2286a1e5f",
   "metadata": {},
   "source": [
    "### Construtor"
   ]
  },
  {
   "cell_type": "code",
   "execution_count": 8,
   "id": "33d1c7e9-22af-4473-9b21-3e7ce0fcf571",
   "metadata": {},
   "outputs": [
    {
     "name": "stdout",
     "output_type": "stream",
     "text": [
      "1/2\n"
     ]
    }
   ],
   "source": [
    "def criarFracao(numerador, denominador):\n",
    "    return(numerador, denominador)\n",
    "\n",
    "\n",
    "def verFracao(f):\n",
    "    print(f[0],\"/\",f[1], sep=\"\")#tirar o espaco sep- o sepador e nada pois possemos sep=\"\"\n",
    "    return\n",
    "\n",
    "\n",
    "verFracao(f1)#por defeito cada pprint fica em cada linha, poe um \\n"
   ]
  },
  {
   "cell_type": "code",
   "execution_count": null,
   "id": "b8e27a80",
   "metadata": {},
   "outputs": [],
   "source": [
    "def verFracao(f):\n",
    "    print(f[0],\"/\",f[1], sep=\"\",end=\" \")#separa cada um dos printes por um espaco e nao um \\n\n",
    "    return\n",
    "\n",
    "\n",
    "verFracao(f1)"
   ]
  },
  {
   "cell_type": "code",
   "execution_count": null,
   "id": "55d8f75c",
   "metadata": {},
   "outputs": [],
   "source": [
    "def verFracao(f):\n",
    "    #print(f[0],\"/\",f[1], sep=\"\",end=\" \")\n",
    "    print(str(f[0])+\"/\"+str(f[1]))# concatenar strings com o mais temos de usar o str\n",
    "    return\n",
    "\n",
    "\n",
    "verFracao(f1)"
   ]
  },
  {
   "cell_type": "code",
   "execution_count": 9,
   "id": "d46df3ff",
   "metadata": {},
   "outputs": [
    {
     "name": "stdout",
     "output_type": "stream",
     "text": [
      "2/3\n"
     ]
    }
   ],
   "source": [
    "f1 = criarFracao(2,3)\n",
    "verFracao(f1)"
   ]
  },
  {
   "cell_type": "markdown",
   "id": "f7cd0ff1",
   "metadata": {},
   "source": [
    "### Simplificação de frações"
   ]
  },
  {
   "cell_type": "code",
   "execution_count": 10,
   "id": "8b0fa08f",
   "metadata": {},
   "outputs": [],
   "source": [
    "#no ano passado no teste saiu fazer o minimo multiplo comum\n",
    "def mdc(a,b):\n",
    "    while a != b:\n",
    "        if a > b:\n",
    "            aux = a \n",
    "            a = b \n",
    "            b = aux - b \n",
    "        else:\n",
    "            a , b = b , a\n",
    "    return b #tanto fazia usar  o a ou o b, sao iguais\n",
    "\n",
    "def simplificarFracao(f):#coloca-la na sua forma irredutivel #maximo divisor comum entre o numerador e o denominador\n",
    "    divisor =mdc(f[0], f[1])\n",
    "    return (f[0]/divisor, f[1]/divisor)"
   ]
  },
  {
   "cell_type": "code",
   "execution_count": 11,
   "id": "8821d031",
   "metadata": {},
   "outputs": [
    {
     "name": "stdout",
     "output_type": "stream",
     "text": [
      "3.0/20.0\n"
     ]
    }
   ],
   "source": [
    "verFracao(simplificarFracao(criarFracao(21, 140)))"
   ]
  },
  {
   "cell_type": "markdown",
   "id": "ca2f1736",
   "metadata": {},
   "source": [
    "### Frações equivalentes\n",
    "\n",
    "Defina uma função que recebe duas frações como argumento e devolve `True` se as frações são equivalentes e `False` caso contrário."
   ]
  },
  {
   "cell_type": "code",
   "execution_count": 12,
   "id": "58bdae83",
   "metadata": {},
   "outputs": [
    {
     "name": "stdout",
     "output_type": "stream",
     "text": [
      "True\n",
      "False\n"
     ]
    }
   ],
   "source": [
    "def equivalenteFracao(f1,f2):\n",
    "    return simplificarFracao(f1) == simplificarFracao(f2) #o resultado disto vai ser true ou false\n",
    "\n",
    "f2 = (2,4)\n",
    "f3 = (4,8)\n",
    "f4 = (3,7)\n",
    "\n",
    "print(equivalenteFracao(f2,f3))\n",
    "print(equivalenteFracao(f2,f4))"
   ]
  },
  {
   "cell_type": "markdown",
   "id": "d52f012f",
   "metadata": {},
   "source": [
    "## Operações sobre frações"
   ]
  },
  {
   "cell_type": "code",
   "execution_count": 16,
   "id": "96ba280b",
   "metadata": {},
   "outputs": [
    {
     "name": "stdout",
     "output_type": "stream",
     "text": [
      "29.0/21.0\n"
     ]
    }
   ],
   "source": [
    "def somarFrac(f1, f2):\n",
    "    return f1[0] * f2[1] + f2 [0] *f1[1], f1[1] * f2 [1]#arriscamos que a fracao na fique na sua forma irreedutivel\n",
    "\n",
    "f2 = criarFracao(5,7)\n",
    "verFracao(simplificarFracao(somarFrac(f1,f2))) #por isso aplicamos o simplificar"
   ]
  },
  {
   "cell_type": "code",
   "execution_count": 19,
   "id": "a0198bce",
   "metadata": {},
   "outputs": [
    {
     "name": "stdout",
     "output_type": "stream",
     "text": [
      "[(7, 9), (8, 14), (9, 14), (5, 13), (5, 2), (5, 14), (7, 3), (1, 13), (2, 11), (4, 8), (6, 3), (3, 6), (4, 16), (7, 17), (2, 8), (6, 16), (7, 8), (3, 2), (4, 5)]\n"
     ]
    }
   ],
   "source": [
    "listaFrac = [f1, f2, criarFracao(125,1000), (8,12)]\n",
    "listaFrac2 = []\n",
    "import random\n",
    "for i in range(1,20):\n",
    "    n = random.randrange(1, 10)\n",
    "    d = random.randrange(2, 20)\n",
    "    listaFrac2.append(criarFracao(n,d))\n",
    "print(listaFrac2)"
   ]
  },
  {
   "cell_type": "markdown",
   "id": "e83e4eae",
   "metadata": {},
   "source": [
    "### Soma uma lista de frações"
   ]
  },
  {
   "cell_type": "code",
   "execution_count": 21,
   "id": "402d83f0",
   "metadata": {},
   "outputs": [
    {
     "name": "stdout",
     "output_type": "stream",
     "text": [
      "(547500, 252000)\n"
     ]
    }
   ],
   "source": [
    "#input uma lista de fracoes output uma fracao que corresponde a soma de todos os elementos da lista\n",
    "def somarListaFrac(lista):\n",
    "    res = lista[0]\n",
    "    i = 1 \n",
    "    while i < len(lista):\n",
    "        res = somarFrac(res,lista[i])\n",
    "        i = i + 1\n",
    "    \n",
    "    return res\n",
    "print(somarListaFrac(listaFrac))"
   ]
  },
  {
   "cell_type": "code",
   "execution_count": 22,
   "id": "f0dacbca",
   "metadata": {},
   "outputs": [
    {
     "name": "stdout",
     "output_type": "stream",
     "text": [
      "(547500, 252000)\n"
     ]
    }
   ],
   "source": [
    "def somarListaFrac(lista):\n",
    "    res = lista[0]\n",
    "    for f in lista[1:]:\n",
    "        res = res = somarFrac(res, f)\n",
    "    return res\n",
    "print(somarListaFrac(listaFrac))"
   ]
  },
  {
   "cell_type": "code",
   "execution_count": null,
   "id": "770ac7c4",
   "metadata": {},
   "outputs": [],
   "source": [
    "#slicing\n",
    "#adquirir subconjutos de conjuntos \n",
    "#lista[start:stop:step]\n",
    "#lista[0:2] subconjunto que vai da posicao 0 ate 2 mas o 2 nao esta incluido\n",
    "#lista[:2] e exatamente a mesma coisa comeca na posicao 0 tambem\n",
    "#lista[1:] vai do 1 ate ao fim\n",
    "#listas no python sao circulares por isso podemos lista[:-1], tudo ate ao menos 1\n",
    "#lista[0:6:2] vai de dois em dois\n",
    "\n",
    "#inverter os elemntos da lista ta na forma crescente pomos decrescente, basta percorrer a lista ao contrario\n",
    "def inverte(lista):\n",
    "    N = len(lista) - 1\n",
    "    novaLista = []\n",
    "    while N >= 0:\n",
    "        novaLista.append(lista[N])\n",
    "        N = N -1\n",
    "    return novaLista\n",
    "\n",
    "#OU\n",
    "\n",
    "nova = [::-1]"
   ]
  },
  {
   "cell_type": "markdown",
   "id": "a88929cc",
   "metadata": {},
   "source": [
    "### Multiplica 2 frações"
   ]
  },
  {
   "cell_type": "code",
   "execution_count": null,
   "id": "519c5358",
   "metadata": {},
   "outputs": [],
   "source": [
    "def multFrac(f1, f2):\n",
    "    \n",
    "    return "
   ]
  },
  {
   "cell_type": "markdown",
   "id": "d1f0c8fa",
   "metadata": {},
   "source": [
    "### Ordenar uma lista de frações por ordem decrescente"
   ]
  },
  {
   "cell_type": "code",
   "execution_count": 24,
   "id": "b783df02",
   "metadata": {},
   "outputs": [
    {
     "name": "stdout",
     "output_type": "stream",
     "text": [
      "[(125, 1000), (8, 12), (5, 7), (2, 3)]\n"
     ]
    }
   ],
   "source": [
    "#errado\n",
    "def ordenaListaFracDec(lista):#ordem decrescente\n",
    "    lista = sorted(lista, reverse=True)#por defeito o sorted ordena sempre por ordem crescente por isso o reverse por defeito  e False\n",
    "    return lista\n",
    "#sorted devolve a lista ordenada\n",
    "#sort altera a lista original\n",
    "\n",
    "print(ordenaListaFracDec(listaFrac))#escolhe o primeiro elemento para ordenar, por defeito ele nao sabe que e o fracao"
   ]
  },
  {
   "cell_type": "code",
   "execution_count": 25,
   "id": "257dfb1d",
   "metadata": {},
   "outputs": [
    {
     "name": "stdout",
     "output_type": "stream",
     "text": [
      "[(5, 7), (2, 3), (8, 12), (125, 1000)]\n"
     ]
    }
   ],
   "source": [
    "#correto\n",
    "def ordena(f):\n",
    "    return f[0] / f[1] \n",
    "\n",
    "\n",
    "\n",
    "def ordenaListaFracDec(lista):#ordem decrescente\n",
    "    lista = sorted(lista, key = ordena, reverse=True) # agora ordena corretamente\n",
    "    return lista\n",
    "#sorted e sort ambos funcionam com o key e o reverse\n",
    "\n",
    "print(ordenaListaFracDec(listaFrac))"
   ]
  },
  {
   "cell_type": "markdown",
   "id": "fcd5b5d6",
   "metadata": {},
   "source": [
    "### Guardar uma lista de frações num ficheiro"
   ]
  },
  {
   "cell_type": "code",
   "execution_count": 28,
   "id": "2840f9b2",
   "metadata": {},
   "outputs": [],
   "source": [
    "def gravaListaFrac(fnome,lista):\n",
    "    file = open(fnome, \"w\")\n",
    "    for f in lista:\n",
    "        registo = str(f[0]) + \"/\" + str(f[1]) + \"\\n\" #a funcao print premite usar , mas quando queremos concatenar strings tem de ser +\n",
    "        file.write(registo)\n",
    "    file.close()\n",
    "    return \n",
    "gravaListaFrac(\"fracoes.txt\", listaFrac)"
   ]
  },
  {
   "cell_type": "markdown",
   "id": "0664fcdc",
   "metadata": {},
   "source": [
    "### Recuperar uma lista de frações dum ficheiro"
   ]
  },
  {
   "cell_type": "code",
   "execution_count": 12,
   "id": "82aece6e",
   "metadata": {},
   "outputs": [
    {
     "data": {
      "text/plain": [
       "[(2, 3), (5, 7), (125, 1000), (8, 12)]"
      ]
     },
     "execution_count": 12,
     "metadata": {},
     "output_type": "execute_result"
    }
   ],
   "source": [
    "def carregaListaFrac(fnome):\n",
    "    lista = []\n",
    "    file = open (fnome, \"r\") #r e facultativo, por defeito ele esta em modo de leitura\n",
    "    for linha in file:\n",
    "        #temos que tirar o \\n\n",
    "        #podemos usar o remove, o strip ou o slicing\n",
    "        fracao = linha.split (\"/\")\n",
    "        linha =linha[:-1]#ultimo elemento fica de fora (\\n)\n",
    "\n",
    "        if len(fracao) > 1:\n",
    "            num = int(fracao[0])\n",
    "            denum = int(fracao[1])\n",
    "            lista.append((num,denum))\n",
    "    file.close()\n",
    "    return lista\n",
    "carregaListaFrac(\"fracoes.txt\")\n"
   ]
  },
  {
   "cell_type": "code",
   "execution_count": 34,
   "id": "08b807ab",
   "metadata": {},
   "outputs": [
    {
     "data": {
      "text/plain": [
       "'4/5'"
      ]
     },
     "execution_count": 34,
     "metadata": {},
     "output_type": "execute_result"
    }
   ],
   "source": [
    "x = \"4/5\\n\"\n",
    "\n",
    "x.replace(\"\\n\",\"\")"
   ]
  },
  {
   "cell_type": "markdown",
   "id": "4193a91b",
   "metadata": {},
   "source": [
    "## TPC8: Teste de aferição\n",
    "\n",
    "Resolva os problemas apresentados a seguir."
   ]
  },
  {
   "cell_type": "markdown",
   "id": "ecb162bd",
   "metadata": {},
   "source": [
    "### tpc-1. Especifique as seguintes listas em compreensão:"
   ]
  },
  {
   "cell_type": "markdown",
   "id": "4e758271",
   "metadata": {},
   "source": [
    "#### a) Lista formada pelos elementos que não são comuns às duas listas:"
   ]
  },
  {
   "cell_type": "code",
   "execution_count": 9,
   "id": "1fe48423",
   "metadata": {},
   "outputs": [
    {
     "name": "stdout",
     "output_type": "stream",
     "text": [
      "[1, 2, 3, 6, 7, 8]\n"
     ]
    }
   ],
   "source": [
    "lista1 = [1, 2, 3, 4, 5]\n",
    "lista2 = [4, 5, 6, 7, 8]  \n",
    "comuns = [...]\n",
    "def listaComuns (lista1, lista2):\n",
    "    comuns = lista1\n",
    "    for elem in lista2:\n",
    "        if elem not in comuns:\n",
    "            comuns.append(elem)\n",
    "        else:\n",
    "            comuns.remove(elem)\n",
    "\n",
    "    return comuns\n",
    "print(listaComuns(lista1, lista2))\n",
    "# Resultado esperado: [1,2,3,5,7,8]"
   ]
  },
  {
   "cell_type": "markdown",
   "id": "0ded2f03",
   "metadata": {},
   "source": [
    "#### b) Lista formada pelas palavras do texto compostas por mais de 3 letras:"
   ]
  },
  {
   "cell_type": "code",
   "execution_count": 14,
   "id": "4ae7f5d0",
   "metadata": {},
   "outputs": [
    {
     "name": "stdout",
     "output_type": "stream",
     "text": [
      "['Vivia', 'poucos', 'anos', 'algures', 'concelho', 'Ribatejo', 'pequeno', 'lavrador', 'negociante', 'gado', 'chamado', 'Manuel', 'Peres', 'Vigário']\n"
     ]
    }
   ],
   "source": [
    "texto1 = \"\"\"Vivia há já não poucos anos algures num concelho do Ribatejo \n",
    "    um pequeno lavrador e negociante de gado chamado Manuel Peres Vigário\"\"\"\n",
    "lista = [...]\n",
    "def listaPalavras3 (texto):\n",
    "    lista = []\n",
    "    palavras = texto.split(\" \")\n",
    "    for palavra in palavras:\n",
    "        if len(palavra) > 3:\n",
    "            lista.append(palavra)\n",
    "    return lista\n",
    "\n",
    "print(listaPalavras3(texto1))\n",
    "\n",
    "\n",
    "# Resultado esperado: ['Vivia', 'poucos', 'anos', 'algures', 'concelho', ...]"
   ]
  },
  {
   "cell_type": "markdown",
   "id": "ecf72afd",
   "metadata": {},
   "source": [
    "#### c) Lista formada por pares do tipo (índice, valor) com os valores da lista dada:"
   ]
  },
  {
   "cell_type": "code",
   "execution_count": 20,
   "id": "876b2cc3",
   "metadata": {},
   "outputs": [
    {
     "name": "stdout",
     "output_type": "stream",
     "text": [
      "[(1, 'anaconda'), (2, 'burro'), (3, 'cavalo'), (4, 'macaco')]\n"
     ]
    }
   ],
   "source": [
    "lista1 = ['anaconda', 'burro', 'cavalo', 'macaco']\n",
    "listaRes = [...]\n",
    "def listaIndiceValor(lista):\n",
    "    listaRes = [] \n",
    "    i = 1\n",
    "    while i != len(lista) +1:\n",
    "        listaRes.append((i, lista[i-1]))\n",
    "        i = i + 1\n",
    "    return listaRes\n",
    "\n",
    "print(listaIndiceValor(lista1))\n",
    "# Resultado esperado: [(1,'anaconda'), (2,'burro'), (3,'cavalo'), (4,'macaco')]"
   ]
  },
  {
   "cell_type": "markdown",
   "id": "28cb3dc4",
   "metadata": {},
   "source": [
    "### tpc-2. À semelhança do que foi feito nas aulas, realize as seguintes tarefas:"
   ]
  },
  {
   "cell_type": "markdown",
   "id": "5d3f1dbe",
   "metadata": {},
   "source": [
    "#### a) Especifique uma função que dada uma string e uma substring não vazia, calcula  o número de vezes em que a substring aparece na string, sem que haja sobreposição de substrings:"
   ]
  },
  {
   "cell_type": "code",
   "execution_count": 24,
   "id": "4458c7bc",
   "metadata": {},
   "outputs": [
    {
     "name": "stdout",
     "output_type": "stream",
     "text": [
      "2\n",
      "1\n",
      "0\n"
     ]
    }
   ],
   "source": [
    "def strCount(s, subs):\n",
    "    res = 0\n",
    "    indice = 0\n",
    "\n",
    "    while indice < len(s):\n",
    "        if s[indice : indice + len(subs)] == subs:\n",
    "            res = res + 1\n",
    "            indice = indice + 1  \n",
    "        else:\n",
    "            indice = indice + 1\n",
    "    \n",
    "\n",
    "    return res\n",
    "\n",
    "print(strCount(\"catcowcat\", \"cat\")) # --> 2\n",
    "print(strCount(\"catcowcat\", \"cow\"))# --> 1\n",
    "print(strCount(\"catcowcat\", \"dog\")) # --> 0"
   ]
  },
  {
   "cell_type": "markdown",
   "id": "e6db31d7",
   "metadata": {},
   "source": [
    "#### b) Especifique uma função que recebe uma lista de números inteiros positivos e devolve o menor produto que for possível calcular multiplicando os 3 menores inteiros da lista:"
   ]
  },
  {
   "cell_type": "code",
   "execution_count": 31,
   "id": "2b5ad344",
   "metadata": {},
   "outputs": [
    {
     "name": "stdout",
     "output_type": "stream",
     "text": [
      "168\n"
     ]
    }
   ],
   "source": [
    "def produtoM3(lista):\n",
    "    lista.sort()\n",
    "    res = 0\n",
    "    res = lista[0] * lista[1] *lista[2]\n",
    "    return  res\n",
    "\n",
    "print(produtoM3([12,3,7,10,12,8,9]))\n",
    "# Resultado esperado: 168 = 3 * 7 * 8"
   ]
  },
  {
   "cell_type": "markdown",
   "id": "6698b337",
   "metadata": {},
   "source": [
    "#### c) Especifique uma função que dado um número inteiro positivo, repetidamente adiciona os seus dígitos até obter apenas um dígito que é retornado como resultado:"
   ]
  },
  {
   "cell_type": "code",
   "execution_count": 42,
   "id": "54cef309",
   "metadata": {},
   "outputs": [
    {
     "name": "stdout",
     "output_type": "stream",
     "text": [
      "2\n",
      "3\n"
     ]
    }
   ],
   "source": [
    "# Input: 38\n",
    "# Output: 2\n",
    "# Explicação: 3 + 8 = 11, 1 + 1 = 2.\n",
    "\n",
    "# Input: 777\n",
    "# Output: 3\n",
    "# Explicação: 7 + 7 + 7 = 21, 2 + 1 = 3.\n",
    "\n",
    "def reduxInt(n):\n",
    "    while n > 10:\n",
    "        nStr = str(n)\n",
    "        soma = 0\n",
    "        for digito in nStr:\n",
    "            soma = soma + int(digito)\n",
    "        n = soma\n",
    "    return n\n",
    "\n",
    "print(reduxInt(38))\n",
    "print(reduxInt(777))"
   ]
  },
  {
   "cell_type": "markdown",
   "id": "4a47b6e8",
   "metadata": {},
   "source": [
    "#### d) Especifique uma função que recebe duas strings, `string1` e `string2`, e devolve o índice da primeira ocorrência de `string2` em `string1`, caso não ocorra nenhuma vez a função deverá retornar `-1`:"
   ]
  },
  {
   "cell_type": "code",
   "execution_count": 1,
   "id": "f0f4c2a8",
   "metadata": {},
   "outputs": [
    {
     "name": "stdout",
     "output_type": "stream",
     "text": [
      "13\n"
     ]
    }
   ],
   "source": [
    "# Invocação: indexOf(\"Hoje está um belo dia de sol!\", \"belo\")\n",
    "# Resultado: 13\n",
    "\n",
    "# Invocação: indexOf(\"Hoje está um belo dia de sol!\", \"chuva\")\n",
    "# Resultado: -1\n",
    "frase = \"Hoje está um belo dia de sol!\"\n",
    "busca = \"belo\"\n",
    "\n",
    "\n",
    "def myIndexOf(s1, s2):\n",
    "    a = 0\n",
    "    res = -1\n",
    "    while a < len(s1) and res == -1:\n",
    "        if s1[a : a + len(s2)] == s2:\n",
    "            res = a\n",
    "        a = a + 1\n",
    "    return res\n",
    "\n",
    "print(myIndexOf(frase, busca))"
   ]
  },
  {
   "cell_type": "markdown",
   "id": "7cd572fc",
   "metadata": {},
   "source": [
    "### tpc-3. A Rede Social\n",
    "\n",
    "Considere que a informação sobre uma rede social está armazenada numa lista de dicionários.\n",
    "\n",
    "Cada dicionário, correspondente a um _post_ e tem chaves `id`, `conteudo`, `autor`, `dataCriacao` e `comentarios`.\n",
    "Por sua vez, `comentarios` é uma lista de dicionários com chaves `comentario` e `autor`.\n",
    "\n",
    "Considere o seguinte exemplo:\n",
    "\n",
    "``` \n",
    "    MyFaceBook = [{\n",
    "        'id': 'p1', \n",
    "        'conteudo': 'A tarefa de avaliação é talvez a mais ingrata das tarefas que um professor\n",
    "    tem de realizar...', \n",
    "        'autor': 'jcr', \n",
    "        'dataCriacao': '2023-07-20', \n",
    "        'comentarios': [\n",
    "            {\n",
    "                'comentario': 'Completamente de acordo...',\n",
    "                'autor': 'prh'\n",
    "            },\n",
    "            {\n",
    "                'comentario': 'Mas há quem goste...',\n",
    "                'autor': 'jj'\n",
    "            }\n",
    "        ]},\n",
    "        {\n",
    "            'id': 'p2',\n",
    "            ...\n",
    "        },\n",
    "        ...\n",
    "        ]\n",
    "```"
   ]
  },
  {
   "cell_type": "markdown",
   "id": "89afc758",
   "metadata": {},
   "source": [
    "Defina as seguintes funções de manipulação e consulta da rede social:"
   ]
  },
  {
   "cell_type": "markdown",
   "id": "1aec6cd8",
   "metadata": {},
   "source": [
    "#### a) `quantosPost`, que indica quantos posts estão registados:"
   ]
  },
  {
   "cell_type": "code",
   "execution_count": 6,
   "id": "39a813ee",
   "metadata": {},
   "outputs": [],
   "source": [
    "def quantosPost(redeSocial):\n",
    "    return len(redeSocial)\n"
   ]
  },
  {
   "cell_type": "markdown",
   "id": "2156a0c8",
   "metadata": {},
   "source": [
    "#### b)  `postsAutor`, que devolve a lista de posts de um determinado autor:"
   ]
  },
  {
   "cell_type": "code",
   "execution_count": 8,
   "id": "8a5a2a41",
   "metadata": {},
   "outputs": [],
   "source": [
    "def postsAutor(redeSocial, autor1):\n",
    "    posts = []\n",
    "    for post in redeSocial:\n",
    "        if post[\"autor\"] == autor1:\n",
    "            posts.append((post[\"conteudo\"]))\n",
    "    \n",
    "    return posts"
   ]
  },
  {
   "cell_type": "markdown",
   "id": "12f9126b",
   "metadata": {},
   "source": [
    "#### c) `autores`, que devolve a lista de autores de posts ordenada alfabeticamente:"
   ]
  },
  {
   "cell_type": "code",
   "execution_count": 10,
   "id": "d9dfe30a",
   "metadata": {},
   "outputs": [],
   "source": [
    "def autores(redeSocial):\n",
    "    listaAutores = []\n",
    "    for post in redeSocial:\n",
    "        listaAutores.append(post[\"autor\"])\n",
    "    listaAutores.sort()\n",
    "    return  listaAutores"
   ]
  },
  {
   "cell_type": "markdown",
   "id": "1a0f760b",
   "metadata": {},
   "source": [
    "#### d) `insPost`, que acrescenta um novo post à rede social a partir dos parâmetros recebidos e devolve a nova rede social. \n",
    "    \n",
    "O campo `id` devrá ser calculado a partir dos já existentes, por exemplo, se a rede tiver posts com id `p1`, `p2` e `p3`, o novo `id` deverá ser `p4`."
   ]
  },
  {
   "cell_type": "code",
   "execution_count": 13,
   "id": "a00c85e3",
   "metadata": {},
   "outputs": [],
   "source": [
    "def insPost(redeSocial, conteudo, autor, dataCriacao, comentarios):\n",
    "    proxId = 1\n",
    "    for posts in redeSocial:\n",
    "        ultimoId = int(posts['id'][1:]) #retirar o p\n",
    "        if ultimoId >= proxId:\n",
    "            proxId = ultimoId +1\n",
    "\n",
    "    novoPost= {\n",
    "        \"id\" : proxId,\n",
    "        \"conteudo\" : conteudo,\n",
    "        'autor' : autor,\n",
    "        'dataCriacao' : dataCriacao,\n",
    "        'comentarios' : comentarios\n",
    "    }\n",
    "    redeSocial.append(novoPost)\n",
    "    \n",
    "    return redeSocial"
   ]
  },
  {
   "cell_type": "markdown",
   "id": "65061d0a",
   "metadata": {},
   "source": [
    "#### e)  `remPost`, que remove um post da rede, correspondente ao `id` recebido."
   ]
  },
  {
   "cell_type": "code",
   "execution_count": 16,
   "id": "dc1adabc",
   "metadata": {},
   "outputs": [],
   "source": [
    "def remPost(redeSocial, id):\n",
    "    for post in redeSocial:\n",
    "        if post[\"id\"] == id:\n",
    "            redeSocial.remove(post)\n",
    "    return redeSocial\n"
   ]
  },
  {
   "cell_type": "markdown",
   "id": "de46a635",
   "metadata": {},
   "source": [
    "#### f) `postsPorAutor`, que devolve uma distribuição de posts por autor (à semelhança do que foi feito nas aulas)."
   ]
  },
  {
   "cell_type": "code",
   "execution_count": 17,
   "id": "4118730d",
   "metadata": {},
   "outputs": [],
   "source": [
    "def postsPorAutor(redeSocial):\n",
    "    dristib = {}\n",
    "    for post in redeSocial:\n",
    "        autor = post[\"autor\"]\n",
    "        if autor in distrib:\n",
    "            distrib[autor] = distrib[autor] + 1\n",
    "        else:\n",
    "            distrib[autor] = 1\n",
    "    return distrib"
   ]
  },
  {
   "cell_type": "markdown",
   "id": "5b1d7d7a",
   "metadata": {},
   "source": [
    "#### g) `comentadoPor`, que recebe um autor e devolve a lista de posts comentados por esse autor."
   ]
  },
  {
   "cell_type": "code",
   "execution_count": 19,
   "id": "a91f2619",
   "metadata": {},
   "outputs": [],
   "source": [
    "def comentadoPor(redeSocial, autor):\n",
    "    res = []\n",
    "    for post in redeSocial:\n",
    "        if post[\"autor\"] == autor:\n",
    "            for comentario in post[\"comentarios\"]:\n",
    "                res.append(comentario[\"comentario\"])\n",
    "\n",
    "    return res"
   ]
  }
 ],
 "metadata": {
  "kernelspec": {
   "display_name": "Python 3.9.1 64-bit",
   "language": "python",
   "name": "python3"
  },
  "language_info": {
   "codemirror_mode": {
    "name": "ipython",
    "version": 3
   },
   "file_extension": ".py",
   "mimetype": "text/x-python",
   "name": "python",
   "nbconvert_exporter": "python",
   "pygments_lexer": "ipython3",
   "version": "3.11.6"
  },
  "vscode": {
   "interpreter": {
    "hash": "aee8b7b246df8f9039afb4144a1f6fd8d2ca17a180786b69acc140d282b71a49"
   }
  }
 },
 "nbformat": 4,
 "nbformat_minor": 5
}
