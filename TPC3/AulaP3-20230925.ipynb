{
 "cells": [
  {
   "cell_type": "markdown",
   "id": "1e545158",
   "metadata": {},
   "source": [
    "# Aula Prática 2 (guião)\n",
    "### Semana de 26 a 30 de Setembro de 2022\n",
    "### José Carlos Ramalho e Luís Cunha\n",
    "### Sinopsis:\n",
    "Algoritmos de cálculo numérico envolvendo estruturas condicionais (if-elif-else) e cíclicas (while)."
   ]
  },
  {
   "cell_type": "markdown",
   "id": "e38d18c4-d7d7-4fea-9bc6-e3f3c903386b",
   "metadata": {},
   "source": [
    "### Exercício 1: Soma de N números\n",
    "- Leia um número N;\n",
    "- Leia N números;\n",
    "- Imprima a soma dos N números."
   ]
  },
  {
   "cell_type": "code",
   "execution_count": null,
   "id": "af973146-3bb4-4fa8-ba6c-b887b79ccff8",
   "metadata": {},
   "outputs": [],
   "source": [
    "# Solução do exercício 1\n",
    "n = int (input(\"insira um numero\"))\n",
    "soma = 0\n",
    "while n > 0:\n",
    "    k = int(input(\"introduza um numero para a adição\"))\n",
    "    soma = soma + k\n",
    "    n = n - 1\n",
    "print(soma)"
   ]
  },
  {
   "cell_type": "code",
   "execution_count": null,
   "id": "193cea5b",
   "metadata": {},
   "outputs": [
    {
     "ename": "KeyboardInterrupt",
     "evalue": "Interrupted by user",
     "output_type": "error",
     "traceback": [
      "\u001b[1;31m---------------------------------------------------------------------------\u001b[0m",
      "\u001b[1;31mKeyboardInterrupt\u001b[0m                         Traceback (most recent call last)",
      "\u001b[1;32mc:\\Users\\Acer\\AppData\\Local\\Temp\\Temp42abc4c1-4f17-436b-b9cf-07424d417102_AulaP3-20230925.ipynb (3).zip\\AulaP3-20230925.ipynb Cell 4\u001b[0m line \u001b[0;36m2\n\u001b[0;32m      <a href='vscode-notebook-cell:/c%3A/Users/Acer/AppData/Local/Temp/Temp42abc4c1-4f17-436b-b9cf-07424d417102_AulaP3-20230925.ipynb%20%283%29.zip/AulaP3-20230925.ipynb#W3sZmlsZQ%3D%3D?line=0'>1</a>\u001b[0m \u001b[39m#n-3 introduza o numero 1; introduza o numero 2\u001b[39;00m\n\u001b[1;32m----> <a href='vscode-notebook-cell:/c%3A/Users/Acer/AppData/Local/Temp/Temp42abc4c1-4f17-436b-b9cf-07424d417102_AulaP3-20230925.ipynb%20%283%29.zip/AulaP3-20230925.ipynb#W3sZmlsZQ%3D%3D?line=1'>2</a>\u001b[0m n \u001b[39m=\u001b[39m \u001b[39mint\u001b[39m(\u001b[39minput\u001b[39;49m(\u001b[39m\"\u001b[39;49m\u001b[39minsira um numero\u001b[39;49m\u001b[39m\"\u001b[39;49m))\n\u001b[0;32m      <a href='vscode-notebook-cell:/c%3A/Users/Acer/AppData/Local/Temp/Temp42abc4c1-4f17-436b-b9cf-07424d417102_AulaP3-20230925.ipynb%20%283%29.zip/AulaP3-20230925.ipynb#W3sZmlsZQ%3D%3D?line=2'>3</a>\u001b[0m soma \u001b[39m=\u001b[39m \u001b[39m0\u001b[39m\n\u001b[0;32m      <a href='vscode-notebook-cell:/c%3A/Users/Acer/AppData/Local/Temp/Temp42abc4c1-4f17-436b-b9cf-07424d417102_AulaP3-20230925.ipynb%20%283%29.zip/AulaP3-20230925.ipynb#W3sZmlsZQ%3D%3D?line=3'>4</a>\u001b[0m pos \u001b[39m=\u001b[39m \u001b[39m1\u001b[39m\n",
      "File \u001b[1;32m~\\AppData\\Local\\Packages\\PythonSoftwareFoundation.Python.3.11_qbz5n2kfra8p0\\LocalCache\\local-packages\\Python311\\site-packages\\ipykernel\\kernelbase.py:1202\u001b[0m, in \u001b[0;36mKernel.raw_input\u001b[1;34m(self, prompt)\u001b[0m\n\u001b[0;32m   1200\u001b[0m     msg \u001b[39m=\u001b[39m \u001b[39m\"\u001b[39m\u001b[39mraw_input was called, but this frontend does not support input requests.\u001b[39m\u001b[39m\"\u001b[39m\n\u001b[0;32m   1201\u001b[0m     \u001b[39mraise\u001b[39;00m StdinNotImplementedError(msg)\n\u001b[1;32m-> 1202\u001b[0m \u001b[39mreturn\u001b[39;00m \u001b[39mself\u001b[39;49m\u001b[39m.\u001b[39;49m_input_request(\n\u001b[0;32m   1203\u001b[0m     \u001b[39mstr\u001b[39;49m(prompt),\n\u001b[0;32m   1204\u001b[0m     \u001b[39mself\u001b[39;49m\u001b[39m.\u001b[39;49m_parent_ident[\u001b[39m\"\u001b[39;49m\u001b[39mshell\u001b[39;49m\u001b[39m\"\u001b[39;49m],\n\u001b[0;32m   1205\u001b[0m     \u001b[39mself\u001b[39;49m\u001b[39m.\u001b[39;49mget_parent(\u001b[39m\"\u001b[39;49m\u001b[39mshell\u001b[39;49m\u001b[39m\"\u001b[39;49m),\n\u001b[0;32m   1206\u001b[0m     password\u001b[39m=\u001b[39;49m\u001b[39mFalse\u001b[39;49;00m,\n\u001b[0;32m   1207\u001b[0m )\n",
      "File \u001b[1;32m~\\AppData\\Local\\Packages\\PythonSoftwareFoundation.Python.3.11_qbz5n2kfra8p0\\LocalCache\\local-packages\\Python311\\site-packages\\ipykernel\\kernelbase.py:1245\u001b[0m, in \u001b[0;36mKernel._input_request\u001b[1;34m(self, prompt, ident, parent, password)\u001b[0m\n\u001b[0;32m   1242\u001b[0m \u001b[39mexcept\u001b[39;00m \u001b[39mKeyboardInterrupt\u001b[39;00m:\n\u001b[0;32m   1243\u001b[0m     \u001b[39m# re-raise KeyboardInterrupt, to truncate traceback\u001b[39;00m\n\u001b[0;32m   1244\u001b[0m     msg \u001b[39m=\u001b[39m \u001b[39m\"\u001b[39m\u001b[39mInterrupted by user\u001b[39m\u001b[39m\"\u001b[39m\n\u001b[1;32m-> 1245\u001b[0m     \u001b[39mraise\u001b[39;00m \u001b[39mKeyboardInterrupt\u001b[39;00m(msg) \u001b[39mfrom\u001b[39;00m \u001b[39mNone\u001b[39;00m\n\u001b[0;32m   1246\u001b[0m \u001b[39mexcept\u001b[39;00m \u001b[39mException\u001b[39;00m:\n\u001b[0;32m   1247\u001b[0m     \u001b[39mself\u001b[39m\u001b[39m.\u001b[39mlog\u001b[39m.\u001b[39mwarning(\u001b[39m\"\u001b[39m\u001b[39mInvalid Message:\u001b[39m\u001b[39m\"\u001b[39m, exc_info\u001b[39m=\u001b[39m\u001b[39mTrue\u001b[39;00m)\n",
      "\u001b[1;31mKeyboardInterrupt\u001b[0m: Interrupted by user"
     ]
    }
   ],
   "source": [
    "#n-3 introduza o numero 1; introduza o numero 2\n",
    "n = int(input(\"insira um numero\"))\n",
    "soma = 0\n",
    "pos = 1\n",
    "while n > 0:\n",
    "    k = int(input(\"introduza um numero para a adição\" + str(pos) + \":\"))\n",
    "    soma = soma + k\n",
    "    pos = pos + 1\n",
    "    n = n - 1\n",
    "print(soma)"
   ]
  },
  {
   "cell_type": "markdown",
   "id": "13b62657",
   "metadata": {},
   "source": [
    "### Exercício 1.5: Números pares\n",
    "- Leia um número N;\n",
    "- Leia N números;\n",
    "- Imprima os números pares na saída."
   ]
  },
  {
   "cell_type": "code",
   "execution_count": 9,
   "id": "1a86095d",
   "metadata": {},
   "outputs": [
    {
     "name": "stdout",
     "output_type": "stream",
     "text": [
      "6\n",
      "8\n",
      "0\n"
     ]
    }
   ],
   "source": [
    "#solução do exercício 1.5\n",
    "n = int(input(\"insira um numero:\"))\n",
    "pos = 1\n",
    "while n > 0:\n",
    "    k = int(input(\"introduza o número\" + str(pos) + \":\"))\n",
    "    if k % 2 == 0:\n",
    "        print (k)  \n",
    "    pos = pos + 1\n",
    "    n = n - 1\n"
   ]
  },
  {
   "cell_type": "markdown",
   "id": "bdcbffb0",
   "metadata": {},
   "source": [
    "### Exercício 2: O Maior de N números\n",
    "- Leia um número N;\n",
    "- Leia N números;\n",
    "- Imprima o maior dos N números."
   ]
  },
  {
   "cell_type": "code",
   "execution_count": 3,
   "id": "af973146-3bb4-4fa8-ba6c-b887b79ccff8",
   "metadata": {},
   "outputs": [
    {
     "name": "stdout",
     "output_type": "stream",
     "text": [
      "4\n"
     ]
    }
   ],
   "source": [
    "# Solução do exercício 2\n",
    "n = int(input(\"quantos numeros vai ler\"))\n",
    "pos = 1\n",
    "maior = 1\n",
    "while n > 0:\n",
    "    k = int(input(\"introduza um número (\" + str(pos) + \") entre 1 e 1000:\"))\n",
    "    if k > maior:\n",
    "        maior = k  \n",
    "    pos = pos + 1\n",
    "    n = n - 1\n",
    "print(maior)\n",
    "\n"
   ]
  },
  {
   "cell_type": "markdown",
   "id": "bdcbffb0",
   "metadata": {},
   "source": [
    "### Exercício 3: O Menor de N números\n",
    "- Leia um número N;\n",
    "- Leia N números;\n",
    "- Imprima o menor dos N números."
   ]
  },
  {
   "cell_type": "code",
   "execution_count": 3,
   "id": "64ad6f7b",
   "metadata": {},
   "outputs": [],
   "source": [
    "# Solução do exercício 3\n",
    "# mudar sinal e por menor por 1000"
   ]
  },
  {
   "cell_type": "markdown",
   "id": "bdcbffb0",
   "metadata": {},
   "source": [
    "### Exercício 4: A Média de N números\n",
    "- Leia um número N;\n",
    "- Leia N números;\n",
    "- Imprima a média dos N números."
   ]
  },
  {
   "cell_type": "code",
   "execution_count": 4,
   "id": "a6c32b2e",
   "metadata": {},
   "outputs": [],
   "source": [
    "# Solução do exercício 4\n",
    "#copiar o da soma e dividir por n "
   ]
  },
  {
   "cell_type": "markdown",
   "id": "46a52784",
   "metadata": {},
   "source": [
    "### Exercício 5: Potência\n",
    "- Defina uma função **pot** que recebe dois parâmetros, **a** e **b**, e retorna o resultado de **a elevado à potência de b**.\n",
    "- Use esta função para escrever no monitor as potências de 2 com expoentes de 1 a 20."
   ]
  },
  {
   "cell_type": "code",
   "execution_count": 4,
   "id": "73ebf338",
   "metadata": {},
   "outputs": [
    {
     "name": "stdout",
     "output_type": "stream",
     "text": [
      "2\n",
      "4\n",
      "8\n",
      "16\n",
      "32\n",
      "64\n",
      "128\n",
      "256\n",
      "512\n",
      "1024\n",
      "2048\n",
      "4096\n",
      "8192\n",
      "16384\n",
      "32768\n",
      "65536\n",
      "131072\n",
      "262144\n",
      "524288\n",
      "1048576\n"
     ]
    }
   ],
   "source": [
    "# Solução do exercício 5\n",
    "def pot(a, b):\n",
    "    res = 1\n",
    "    while b > 0:\n",
    "        res= res * a \n",
    "        b = b - 1\n",
    "    return res \n",
    "expoente = 1 \n",
    "while expoente <= 20:\n",
    "    print(pot(2,expoente))\n",
    "    expoente =expoente + 1\n"
   ]
  },
  {
   "cell_type": "markdown",
   "id": "a09b4add",
   "metadata": {},
   "source": [
    "### Exercício 6: Divisão inteira\n",
    "- Defina uma função **divisao** que recebe dois parâmetros **a** e **b** e retorna o resultado da **divisão inteira de a por b** (neste exercício não poderá usar as operações de divisão '/' e do resto '%').\n",
    "- utilize esta função para escrever no monitor o resultado da divisão por 7 dos números de 10 a 100"
   ]
  },
  {
   "cell_type": "code",
   "execution_count": 11,
   "id": "36dbd5aa",
   "metadata": {},
   "outputs": [
    {
     "name": "stdout",
     "output_type": "stream",
     "text": [
      "10 1\n",
      "11 1\n",
      "12 1\n",
      "13 1\n",
      "14 2\n",
      "15 2\n",
      "16 2\n",
      "17 2\n",
      "18 2\n",
      "19 2\n",
      "20 2\n",
      "21 3\n",
      "22 3\n",
      "23 3\n",
      "24 3\n",
      "25 3\n",
      "26 3\n",
      "27 3\n",
      "28 4\n",
      "29 4\n",
      "30 4\n",
      "31 4\n",
      "32 4\n",
      "33 4\n",
      "34 4\n",
      "35 5\n",
      "36 5\n",
      "37 5\n",
      "38 5\n",
      "39 5\n",
      "40 5\n",
      "41 5\n",
      "42 6\n",
      "43 6\n",
      "44 6\n",
      "45 6\n",
      "46 6\n",
      "47 6\n",
      "48 6\n",
      "49 7\n",
      "50 7\n",
      "51 7\n",
      "52 7\n",
      "53 7\n",
      "54 7\n",
      "55 7\n",
      "56 8\n",
      "57 8\n",
      "58 8\n",
      "59 8\n",
      "60 8\n",
      "61 8\n",
      "62 8\n",
      "63 9\n",
      "64 9\n",
      "65 9\n",
      "66 9\n",
      "67 9\n",
      "68 9\n",
      "69 9\n",
      "70 10\n",
      "71 10\n",
      "72 10\n",
      "73 10\n",
      "74 10\n",
      "75 10\n",
      "76 10\n",
      "77 11\n",
      "78 11\n",
      "79 11\n",
      "80 11\n",
      "81 11\n",
      "82 11\n",
      "83 11\n",
      "84 12\n",
      "85 12\n",
      "86 12\n",
      "87 12\n",
      "88 12\n",
      "89 12\n",
      "90 12\n",
      "91 13\n",
      "92 13\n",
      "93 13\n",
      "94 13\n",
      "95 13\n",
      "96 13\n",
      "97 13\n",
      "98 14\n",
      "99 14\n",
      "100 14\n"
     ]
    }
   ],
   "source": [
    "# Solução do exercício 6\n",
    "def divisão(a, b):\n",
    "    res = 0\n",
    "    while a >= b:\n",
    "        res = res +1\n",
    "        a = a - b\n",
    "    return res \n",
    "limite = 10 \n",
    "while limite <= 100:\n",
    "    print(limite, divisão(limite, 7))\n",
    "    limite =limite + 1"
   ]
  },
  {
   "cell_type": "markdown",
   "id": "0490effe",
   "metadata": {},
   "source": [
    "### Exercício 7: Resto\n",
    "- Defina uma função **resto** que recebe dois parâmetros **a** e **b** e retorna o **resto da divisão inteira de a por b** (neste exercício não poderá usar as operações de divisão '/' e do resto '%').\n",
    "- utilize esta função para escrever no monitor o resto da divisão por 7 dos números de 10 a 100"
   ]
  },
  {
   "cell_type": "code",
   "execution_count": null,
   "id": "3fea0e05",
   "metadata": {},
   "outputs": [],
   "source": [
    "# Solução do exercício 7\n",
    "\n",
    "\n"
   ]
  },
  {
   "cell_type": "markdown",
   "id": "d11cdd11",
   "metadata": {},
   "source": [
    "### Exercício 8: Série numérica\n",
    "- Defina uma função **serie** que recebe três parâmetros, **base**, **salto** e **nelems**, e escreve no monitor a série;\n",
    "- Invocada com: **serie(7, 4, 5)** escreveria: 7, 11, 15, 19, 23"
   ]
  },
  {
   "cell_type": "code",
   "execution_count": 6,
   "id": "7549c7d7",
   "metadata": {},
   "outputs": [],
   "source": [
    "# Solução do exercício 8\n"
   ]
  },
  {
   "cell_type": "markdown",
   "id": "73187e87",
   "metadata": {},
   "source": [
    "### Exercício 9: Desenhar um quadrado\n",
    "- Defina uma função **quad** que recebe um parâmetro, **n**, e desenha no monitor um quadrado usando o caráter '#'."
   ]
  },
  {
   "cell_type": "code",
   "execution_count": 10,
   "id": "a31f8eaf",
   "metadata": {},
   "outputs": [
    {
     "name": "stdout",
     "output_type": "stream",
     "text": [
      "##\n",
      "##\n",
      "###\n",
      "###\n",
      "###\n",
      "#######\n",
      "#######\n",
      "#######\n",
      "#######\n",
      "#######\n",
      "#######\n",
      "#######\n"
     ]
    }
   ],
   "source": [
    "# Solução do exercício 9\n",
    "def quad(n):\n",
    "    i = 0\n",
    "    while n > i:\n",
    "        print(\"#\"*n)\n",
    "        i = i+1\n",
    "quad(2)\n",
    "quad(3)\n",
    "quad(7)"
   ]
  },
  {
   "cell_type": "markdown",
   "id": "f4e2bc84",
   "metadata": {},
   "source": [
    "### Exercício 10: Índice de Massa Corporal\n",
    "- Defina uma função **imc** que recebe dois parâmetros, **peso**,**altura**, calcula o IMC corresponente e interpreta esse resultado.\n",
    "- imc(53,1.56) - Output: \"O seu índice de massa corporal é **21.78** e encontra-se na categoria **Normal**\"\n",
    "- imc(83,1.56) - Output: \"O seu índice de massa corporal é **34.11** e encontra-se na categoria **Obesidade grau I**\"\n",
    "\n",
    "Valores:\n",
    "- Menor que 18,5 - Baixo peso\n",
    "- 18,5 a 24,9 - Normal\n",
    "- 25 a 29,9\t- Excesso de peso\n",
    "- 30 a 34,9\t- Obesidade grau I\n",
    "- 35 a 39,9\t- Obesidade grau II\n",
    "- Maior que 40\t- Obesidade grau III"
   ]
  },
  {
   "cell_type": "code",
   "execution_count": 18,
   "id": "2a62004a",
   "metadata": {},
   "outputs": [],
   "source": [
    "# Solução do exercício 10"
   ]
  },
  {
   "cell_type": "markdown",
   "id": "dfdc1d7c",
   "metadata": {},
   "source": [
    "## TPC3: Advinha o número !?\n",
    "\n",
    "Desenvolve em Python o código necessário para o jogo do Adivinhe o número. O jogo deverá ter dois modos: o computador tenta acertar no número que o jogador pensou, ou o jogador tenta acertar no número que o computador pensou. No fim, o programa deverá indicar quantas tentativas foram realizadas para chegar ao resultado.\n",
    "\n",
    "Que conclusão podes tirar sobre o número de tentativas necessárias para um número entre 0 e 100?\n",
    "E se fosse entre 0 e 1000?"
   ]
  },
  {
   "cell_type": "code",
   "execution_count": 3,
   "id": "2eb11c22",
   "metadata": {},
   "outputs": [
    {
     "name": "stdout",
     "output_type": "stream",
     "text": [
      "Escolhe um modo de jogo:\n",
      "1. Computador adivinha o número do jogador\n",
      "2. Jogador adivinha o número do computador\n",
      "O computador já pensou num número. Tenta adivinha-lo\n",
      "Tenta um número menor\n",
      "Tenta um número menor\n",
      "Tenta um número menor\n",
      "Tenta um número menor\n",
      "Tenta um número menor\n",
      "Tenta um número menor\n",
      "Tenta um número menor\n",
      "Tenta um número menor\n",
      "Você adivinhou o número em 9 tentativas\n"
     ]
    }
   ],
   "source": [
    "import random\n",
    "\n",
    "#modo em que o computador adivinha o numero em que o jogador pensou\n",
    "def computador_adivinha(número_do_jogador):\n",
    "    tentativas = 0\n",
    "    limite_inferior = 0\n",
    "    limite_superior = 100\n",
    "    \n",
    "    while True:\n",
    "        palpite = random.randrange(limite_inferior, limite_superior + 1)\n",
    "        tentativas = tentativas + 1\n",
    "        if palpite == número_do_jogador:\n",
    "            return tentativas\n",
    "        elif palpite < número_do_jogador:\n",
    "            limite_inferior = palpite + 1\n",
    "        else:\n",
    "            limite_superior = palpite - 1\n",
    "\n",
    "# modo em que o computador escolhe um número e o jogador tenta adivinhar\n",
    "def jogador_adivinha():\n",
    "    número_do_computador = random.randrange(0,101)\n",
    "    tentativas = 0\n",
    "    while True:\n",
    "        palpite = int(input(\"Tenta adivinhar o número\"))\n",
    "        tentativas = tentativas + 1\n",
    "        if palpite == número_do_computador:\n",
    "            return tentativas\n",
    "        elif palpite > número_do_computador:\n",
    "            print(\"Tenta um número menor\")\n",
    "        else: \n",
    "            print(\"Tenta um número maior\")\n",
    "\n",
    "# escolha do modo\n",
    "def adivinha_o_número ():\n",
    "    print(\"Escolhe um modo de jogo:\")\n",
    "    print(\"1. Computador adivinha o número do jogador\")\n",
    "    print(\"2. Jogador adivinha o número do computador\")\n",
    "    mode = int(input(\"Que modo queres jogar?\"))\n",
    "\n",
    "    if mode == 1:\n",
    "        número_do_jogador = int(input(\"Pensa num número entre 0 e 100. Eu vou tentar adivinha-lo\"))\n",
    "        tentativas = computador_adivinha(número_do_jogador)\n",
    "        print(f\"O computador adivinhou o teu número em {tentativas} tentativas\")\n",
    "    elif mode ==2:\n",
    "        print (\"O computador já pensou num número. Tenta adivinha-lo\")\n",
    "        tentativas = jogador_adivinha()\n",
    "        print(f\"Você adivinhou o número em {tentativas} tentativas\")\n",
    "    else: \n",
    "        print(\"Opção inválida\")\n",
    "\n",
    "\n",
    "adivinha_o_número()"
   ]
  }
 ],
 "metadata": {
  "kernelspec": {
   "display_name": "Python 3.9.7 64-bit",
   "language": "python",
   "name": "python3"
  },
  "language_info": {
   "codemirror_mode": {
    "name": "ipython",
    "version": 3
   },
   "file_extension": ".py",
   "mimetype": "text/x-python",
   "name": "python",
   "nbconvert_exporter": "python",
   "pygments_lexer": "ipython3",
   "version": "3.11.5"
  },
  "vscode": {
   "interpreter": {
    "hash": "916dbcbb3f70747c44a77c7bcd40155683ae19c65e1c03b4aa3499c5328201f1"
   }
  }
 },
 "nbformat": 4,
 "nbformat_minor": 5
}
